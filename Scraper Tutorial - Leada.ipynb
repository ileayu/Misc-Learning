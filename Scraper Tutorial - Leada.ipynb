{
 "metadata": {
  "name": "",
  "signature": "sha256:dac3dc1880b18a3f2cdf5d00771b055ef2720051a8d64c1090baec78be54b1c0"
 },
 "nbformat": 3,
 "nbformat_minor": 0,
 "worksheets": [
  {
   "cells": [
    {
     "cell_type": "code",
     "collapsed": false,
     "input": [
      "import requests\n",
      "from bs4 import BeautifulSoup, SoupStrainer"
     ],
     "language": "python",
     "metadata": {},
     "outputs": [],
     "prompt_number": 2
    },
    {
     "cell_type": "markdown",
     "metadata": {},
     "source": [
      "##Collect your search URLs"
     ]
    },
    {
     "cell_type": "code",
     "collapsed": false,
     "input": [
      "#set up\n",
      "list_ads = []\n",
      "hPage = \"http://www.boattrader.com\"\n",
      "tail = \"/search-results/\"\n",
      "\n",
      "while (True):\n",
      "    #scrape the page for the listings\n",
      "    sPage = hPage + tail\n",
      "    r = requests.get(sPage)\n",
      "    page = r.text\n",
      "    soup = BeautifulSoup(page, 'html.parser')\n",
      "    m = soup.find_all('a',{'class': 'btn btn-orange'},)\n",
      "    [list_ads.append(i['href']) for i in m]\n",
      "    \n",
      "    #now move onto the next page\n",
      "    nButton = soup.find_all('a',{'title':'Next Page'})\n",
      "    if (len(nButton)==0): break\n",
      "#     if (len(list_ads) ==800):break #ONLY FOR EXPORTING 800 PURPOSES IN CSV, OTHERWISE COMMENT OUT\n",
      "    tail = nButton[0]['href']"
     ],
     "language": "python",
     "metadata": {},
     "outputs": [],
     "prompt_number": 3
    },
    {
     "cell_type": "code",
     "collapsed": false,
     "input": [
      "len(list_ads) #check length just to make sure"
     ],
     "language": "python",
     "metadata": {},
     "outputs": [
      {
       "metadata": {},
       "output_type": "pyout",
       "prompt_number": 4,
       "text": [
        "800"
       ]
      }
     ],
     "prompt_number": 4
    },
    {
     "cell_type": "markdown",
     "metadata": {},
     "source": [
      "##Scrape each Listing"
     ]
    },
    {
     "cell_type": "code",
     "collapsed": false,
     "input": [
      "all_listings = [['make','model','price','number'],] #create headings\n",
      "for tail in list_ads:\n",
      "    link = hPage + tail\n",
      "    r = requests.get(link)\n",
      "    listing = r.text\n",
      "    soup = BeautifulSoup(listing, 'html.parser')\n",
      "    info = soup.find_all('div',{'id':'ad-detail-template'})\n",
      "    if (len(info)==0): continue #just in case the listing has been deleted in the interim\n",
      "    soup2 = info[0]\n",
      "    make = soup2.find_all('span',{'class':'bd-make'})\n",
      "    model = soup2.find_all('span',{'class':'bd-model'})\n",
      "    price = soup2.find_all('span',{'class':'bd-price'})\n",
      "    number = soup.find_all('div',{'class':'phone'})\n",
      "\n",
      "    #now we create a row entry\n",
      "    categories = [make,model,price,number]\n",
      "    details = []\n",
      "    for i in categories:\n",
      "        if (len(i)>0): details.append(i[0].text)\n",
      "        else: details.append(\"0\")\n",
      "\n",
      "    #remove extra phone number formatting\n",
      "    details[3] = details[3].replace(\")\",\"\").replace(\" (\",\"\").replace(\"-\",\"\")\n",
      "    details[3] = details[3][::-1] #reverse the phone number\n",
      "    details[2] = details[2].strip().replace(\"$\",\"\").replace(\",\",\"\")\n",
      "    if (details[2] == \"Request a Price\"): details[2] = 0\n",
      "    else: details[2] = int(details[2])\n",
      "\n",
      "    #add the finalized entry to the list!\n",
      "    all_listings.append(details)"
     ],
     "language": "python",
     "metadata": {},
     "outputs": [],
     "prompt_number": 22
    },
    {
     "cell_type": "code",
     "collapsed": false,
     "input": [
      "cd ~/Documents/PROYECTOS/"
     ],
     "language": "python",
     "metadata": {},
     "outputs": [
      {
       "output_type": "stream",
       "stream": "stdout",
       "text": [
        "/Users/LS/Documents/PROYECTOS\n"
       ]
      }
     ],
     "prompt_number": 8
    },
    {
     "cell_type": "code",
     "collapsed": false,
     "input": [
      "import csv\n",
      "with open(\"output.csv\", \"wb\") as f:\n",
      "    writer = csv.writer(f)\n",
      "    writer.writerows(all_listings)"
     ],
     "language": "python",
     "metadata": {},
     "outputs": [],
     "prompt_number": 9
    }
   ],
   "metadata": {}
  }
 ]
}